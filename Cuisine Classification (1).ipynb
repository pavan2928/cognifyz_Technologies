{
  "metadata": {
    "language_info": {
      "codemirror_mode": {
        "name": "python",
        "version": 3
      },
      "file_extension": ".py",
      "mimetype": "text/x-python",
      "name": "python",
      "nbconvert_exporter": "python",
      "pygments_lexer": "ipython3",
      "version": "3.8"
    },
    "kernelspec": {
      "name": "python",
      "display_name": "Python (Pyodide)",
      "language": "python"
    }
  },
  "nbformat_minor": 4,
  "nbformat": 4,
  "cells": [
    {
      "cell_type": "code",
      "source": "import pandas as pd\nimport numpy as np\nimport matplotlib.pyplot as plt\n ",
      "metadata": {
        "trusted": true
      },
      "execution_count": 18,
      "outputs": []
    },
    {
      "cell_type": "code",
      "source": "df = pd.read_csv('Dataset.csv')\ndf[\"Cuisines\"].fillna(\"unknown\")\nrows,columns=df.shape\ndf.head()",
      "metadata": {
        "trusted": true
      },
      "execution_count": 19,
      "outputs": [
        {
          "execution_count": 19,
          "output_type": "execute_result",
          "data": {
            "text/plain": "   Restaurant ID         Restaurant Name  Country Code              City  \\\n0        6317637        Le Petit Souffle           162       Makati City   \n1        6304287        Izakaya Kikufuji           162       Makati City   \n2        6300002  Heat - Edsa Shangri-La           162  Mandaluyong City   \n3        6318506                    Ooma           162  Mandaluyong City   \n4        6314302             Sambo Kojin           162  Mandaluyong City   \n\n                                             Address  \\\n0  Third Floor, Century City Mall, Kalayaan Avenu...   \n1  Little Tokyo, 2277 Chino Roces Avenue, Legaspi...   \n2  Edsa Shangri-La, 1 Garden Way, Ortigas, Mandal...   \n3  Third Floor, Mega Fashion Hall, SM Megamall, O...   \n4  Third Floor, Mega Atrium, SM Megamall, Ortigas...   \n\n                                     Locality  \\\n0   Century City Mall, Poblacion, Makati City   \n1  Little Tokyo, Legaspi Village, Makati City   \n2  Edsa Shangri-La, Ortigas, Mandaluyong City   \n3      SM Megamall, Ortigas, Mandaluyong City   \n4      SM Megamall, Ortigas, Mandaluyong City   \n\n                                    Locality Verbose   Longitude   Latitude  \\\n0  Century City Mall, Poblacion, Makati City, Mak...  121.027535  14.565443   \n1  Little Tokyo, Legaspi Village, Makati City, Ma...  121.014101  14.553708   \n2  Edsa Shangri-La, Ortigas, Mandaluyong City, Ma...  121.056831  14.581404   \n3  SM Megamall, Ortigas, Mandaluyong City, Mandal...  121.056475  14.585318   \n4  SM Megamall, Ortigas, Mandaluyong City, Mandal...  121.057508  14.584450   \n\n                           Cuisines  ...          Currency Has Table booking  \\\n0        French, Japanese, Desserts  ...  Botswana Pula(P)               Yes   \n1                          Japanese  ...  Botswana Pula(P)               Yes   \n2  Seafood, Asian, Filipino, Indian  ...  Botswana Pula(P)               Yes   \n3                   Japanese, Sushi  ...  Botswana Pula(P)                No   \n4                  Japanese, Korean  ...  Botswana Pula(P)               Yes   \n\n  Has Online delivery Is delivering now Switch to order menu Price range  \\\n0                  No                No                   No           3   \n1                  No                No                   No           3   \n2                  No                No                   No           4   \n3                  No                No                   No           4   \n4                  No                No                   No           4   \n\n   Aggregate rating  Rating color Rating text Votes  \n0               4.8    Dark Green   Excellent   314  \n1               4.5    Dark Green   Excellent   591  \n2               4.4         Green   Very Good   270  \n3               4.9    Dark Green   Excellent   365  \n4               4.8    Dark Green   Excellent   229  \n\n[5 rows x 21 columns]",
            "text/html": "<div>\n<style scoped>\n    .dataframe tbody tr th:only-of-type {\n        vertical-align: middle;\n    }\n\n    .dataframe tbody tr th {\n        vertical-align: top;\n    }\n\n    .dataframe thead th {\n        text-align: right;\n    }\n</style>\n<table border=\"1\" class=\"dataframe\">\n  <thead>\n    <tr style=\"text-align: right;\">\n      <th></th>\n      <th>Restaurant ID</th>\n      <th>Restaurant Name</th>\n      <th>Country Code</th>\n      <th>City</th>\n      <th>Address</th>\n      <th>Locality</th>\n      <th>Locality Verbose</th>\n      <th>Longitude</th>\n      <th>Latitude</th>\n      <th>Cuisines</th>\n      <th>...</th>\n      <th>Currency</th>\n      <th>Has Table booking</th>\n      <th>Has Online delivery</th>\n      <th>Is delivering now</th>\n      <th>Switch to order menu</th>\n      <th>Price range</th>\n      <th>Aggregate rating</th>\n      <th>Rating color</th>\n      <th>Rating text</th>\n      <th>Votes</th>\n    </tr>\n  </thead>\n  <tbody>\n    <tr>\n      <th>0</th>\n      <td>6317637</td>\n      <td>Le Petit Souffle</td>\n      <td>162</td>\n      <td>Makati City</td>\n      <td>Third Floor, Century City Mall, Kalayaan Avenu...</td>\n      <td>Century City Mall, Poblacion, Makati City</td>\n      <td>Century City Mall, Poblacion, Makati City, Mak...</td>\n      <td>121.027535</td>\n      <td>14.565443</td>\n      <td>French, Japanese, Desserts</td>\n      <td>...</td>\n      <td>Botswana Pula(P)</td>\n      <td>Yes</td>\n      <td>No</td>\n      <td>No</td>\n      <td>No</td>\n      <td>3</td>\n      <td>4.8</td>\n      <td>Dark Green</td>\n      <td>Excellent</td>\n      <td>314</td>\n    </tr>\n    <tr>\n      <th>1</th>\n      <td>6304287</td>\n      <td>Izakaya Kikufuji</td>\n      <td>162</td>\n      <td>Makati City</td>\n      <td>Little Tokyo, 2277 Chino Roces Avenue, Legaspi...</td>\n      <td>Little Tokyo, Legaspi Village, Makati City</td>\n      <td>Little Tokyo, Legaspi Village, Makati City, Ma...</td>\n      <td>121.014101</td>\n      <td>14.553708</td>\n      <td>Japanese</td>\n      <td>...</td>\n      <td>Botswana Pula(P)</td>\n      <td>Yes</td>\n      <td>No</td>\n      <td>No</td>\n      <td>No</td>\n      <td>3</td>\n      <td>4.5</td>\n      <td>Dark Green</td>\n      <td>Excellent</td>\n      <td>591</td>\n    </tr>\n    <tr>\n      <th>2</th>\n      <td>6300002</td>\n      <td>Heat - Edsa Shangri-La</td>\n      <td>162</td>\n      <td>Mandaluyong City</td>\n      <td>Edsa Shangri-La, 1 Garden Way, Ortigas, Mandal...</td>\n      <td>Edsa Shangri-La, Ortigas, Mandaluyong City</td>\n      <td>Edsa Shangri-La, Ortigas, Mandaluyong City, Ma...</td>\n      <td>121.056831</td>\n      <td>14.581404</td>\n      <td>Seafood, Asian, Filipino, Indian</td>\n      <td>...</td>\n      <td>Botswana Pula(P)</td>\n      <td>Yes</td>\n      <td>No</td>\n      <td>No</td>\n      <td>No</td>\n      <td>4</td>\n      <td>4.4</td>\n      <td>Green</td>\n      <td>Very Good</td>\n      <td>270</td>\n    </tr>\n    <tr>\n      <th>3</th>\n      <td>6318506</td>\n      <td>Ooma</td>\n      <td>162</td>\n      <td>Mandaluyong City</td>\n      <td>Third Floor, Mega Fashion Hall, SM Megamall, O...</td>\n      <td>SM Megamall, Ortigas, Mandaluyong City</td>\n      <td>SM Megamall, Ortigas, Mandaluyong City, Mandal...</td>\n      <td>121.056475</td>\n      <td>14.585318</td>\n      <td>Japanese, Sushi</td>\n      <td>...</td>\n      <td>Botswana Pula(P)</td>\n      <td>No</td>\n      <td>No</td>\n      <td>No</td>\n      <td>No</td>\n      <td>4</td>\n      <td>4.9</td>\n      <td>Dark Green</td>\n      <td>Excellent</td>\n      <td>365</td>\n    </tr>\n    <tr>\n      <th>4</th>\n      <td>6314302</td>\n      <td>Sambo Kojin</td>\n      <td>162</td>\n      <td>Mandaluyong City</td>\n      <td>Third Floor, Mega Atrium, SM Megamall, Ortigas...</td>\n      <td>SM Megamall, Ortigas, Mandaluyong City</td>\n      <td>SM Megamall, Ortigas, Mandaluyong City, Mandal...</td>\n      <td>121.057508</td>\n      <td>14.584450</td>\n      <td>Japanese, Korean</td>\n      <td>...</td>\n      <td>Botswana Pula(P)</td>\n      <td>Yes</td>\n      <td>No</td>\n      <td>No</td>\n      <td>No</td>\n      <td>4</td>\n      <td>4.8</td>\n      <td>Dark Green</td>\n      <td>Excellent</td>\n      <td>229</td>\n    </tr>\n  </tbody>\n</table>\n<p>5 rows × 21 columns</p>\n</div>"
          },
          "metadata": {}
        }
      ]
    },
    {
      "cell_type": "code",
      "source": "boolean_list = [\"Has Table booking\", \"Has Online delivery\", \"Is delivering now\", \"Switch to order menu\"]\n\ndef boolean_replace(value):\n    if value == \"Yes\":\n        return 1\n    elif value == \"No\":\n        return 0\n    else:\n        return value  \ndf[boolean_list] = df[boolean_list].applymap(boolean_replace)\n\ndf.head()",
      "metadata": {
        "trusted": true
      },
      "execution_count": 20,
      "outputs": [
        {
          "execution_count": 20,
          "output_type": "execute_result",
          "data": {
            "text/plain": "   Restaurant ID         Restaurant Name  Country Code              City  \\\n0        6317637        Le Petit Souffle           162       Makati City   \n1        6304287        Izakaya Kikufuji           162       Makati City   \n2        6300002  Heat - Edsa Shangri-La           162  Mandaluyong City   \n3        6318506                    Ooma           162  Mandaluyong City   \n4        6314302             Sambo Kojin           162  Mandaluyong City   \n\n                                             Address  \\\n0  Third Floor, Century City Mall, Kalayaan Avenu...   \n1  Little Tokyo, 2277 Chino Roces Avenue, Legaspi...   \n2  Edsa Shangri-La, 1 Garden Way, Ortigas, Mandal...   \n3  Third Floor, Mega Fashion Hall, SM Megamall, O...   \n4  Third Floor, Mega Atrium, SM Megamall, Ortigas...   \n\n                                     Locality  \\\n0   Century City Mall, Poblacion, Makati City   \n1  Little Tokyo, Legaspi Village, Makati City   \n2  Edsa Shangri-La, Ortigas, Mandaluyong City   \n3      SM Megamall, Ortigas, Mandaluyong City   \n4      SM Megamall, Ortigas, Mandaluyong City   \n\n                                    Locality Verbose   Longitude   Latitude  \\\n0  Century City Mall, Poblacion, Makati City, Mak...  121.027535  14.565443   \n1  Little Tokyo, Legaspi Village, Makati City, Ma...  121.014101  14.553708   \n2  Edsa Shangri-La, Ortigas, Mandaluyong City, Ma...  121.056831  14.581404   \n3  SM Megamall, Ortigas, Mandaluyong City, Mandal...  121.056475  14.585318   \n4  SM Megamall, Ortigas, Mandaluyong City, Mandal...  121.057508  14.584450   \n\n                           Cuisines  ...          Currency Has Table booking  \\\n0        French, Japanese, Desserts  ...  Botswana Pula(P)                 1   \n1                          Japanese  ...  Botswana Pula(P)                 1   \n2  Seafood, Asian, Filipino, Indian  ...  Botswana Pula(P)                 1   \n3                   Japanese, Sushi  ...  Botswana Pula(P)                 0   \n4                  Japanese, Korean  ...  Botswana Pula(P)                 1   \n\n   Has Online delivery  Is delivering now  Switch to order menu  Price range  \\\n0                    0                  0                     0            3   \n1                    0                  0                     0            3   \n2                    0                  0                     0            4   \n3                    0                  0                     0            4   \n4                    0                  0                     0            4   \n\n   Aggregate rating  Rating color Rating text Votes  \n0               4.8    Dark Green   Excellent   314  \n1               4.5    Dark Green   Excellent   591  \n2               4.4         Green   Very Good   270  \n3               4.9    Dark Green   Excellent   365  \n4               4.8    Dark Green   Excellent   229  \n\n[5 rows x 21 columns]",
            "text/html": "<div>\n<style scoped>\n    .dataframe tbody tr th:only-of-type {\n        vertical-align: middle;\n    }\n\n    .dataframe tbody tr th {\n        vertical-align: top;\n    }\n\n    .dataframe thead th {\n        text-align: right;\n    }\n</style>\n<table border=\"1\" class=\"dataframe\">\n  <thead>\n    <tr style=\"text-align: right;\">\n      <th></th>\n      <th>Restaurant ID</th>\n      <th>Restaurant Name</th>\n      <th>Country Code</th>\n      <th>City</th>\n      <th>Address</th>\n      <th>Locality</th>\n      <th>Locality Verbose</th>\n      <th>Longitude</th>\n      <th>Latitude</th>\n      <th>Cuisines</th>\n      <th>...</th>\n      <th>Currency</th>\n      <th>Has Table booking</th>\n      <th>Has Online delivery</th>\n      <th>Is delivering now</th>\n      <th>Switch to order menu</th>\n      <th>Price range</th>\n      <th>Aggregate rating</th>\n      <th>Rating color</th>\n      <th>Rating text</th>\n      <th>Votes</th>\n    </tr>\n  </thead>\n  <tbody>\n    <tr>\n      <th>0</th>\n      <td>6317637</td>\n      <td>Le Petit Souffle</td>\n      <td>162</td>\n      <td>Makati City</td>\n      <td>Third Floor, Century City Mall, Kalayaan Avenu...</td>\n      <td>Century City Mall, Poblacion, Makati City</td>\n      <td>Century City Mall, Poblacion, Makati City, Mak...</td>\n      <td>121.027535</td>\n      <td>14.565443</td>\n      <td>French, Japanese, Desserts</td>\n      <td>...</td>\n      <td>Botswana Pula(P)</td>\n      <td>1</td>\n      <td>0</td>\n      <td>0</td>\n      <td>0</td>\n      <td>3</td>\n      <td>4.8</td>\n      <td>Dark Green</td>\n      <td>Excellent</td>\n      <td>314</td>\n    </tr>\n    <tr>\n      <th>1</th>\n      <td>6304287</td>\n      <td>Izakaya Kikufuji</td>\n      <td>162</td>\n      <td>Makati City</td>\n      <td>Little Tokyo, 2277 Chino Roces Avenue, Legaspi...</td>\n      <td>Little Tokyo, Legaspi Village, Makati City</td>\n      <td>Little Tokyo, Legaspi Village, Makati City, Ma...</td>\n      <td>121.014101</td>\n      <td>14.553708</td>\n      <td>Japanese</td>\n      <td>...</td>\n      <td>Botswana Pula(P)</td>\n      <td>1</td>\n      <td>0</td>\n      <td>0</td>\n      <td>0</td>\n      <td>3</td>\n      <td>4.5</td>\n      <td>Dark Green</td>\n      <td>Excellent</td>\n      <td>591</td>\n    </tr>\n    <tr>\n      <th>2</th>\n      <td>6300002</td>\n      <td>Heat - Edsa Shangri-La</td>\n      <td>162</td>\n      <td>Mandaluyong City</td>\n      <td>Edsa Shangri-La, 1 Garden Way, Ortigas, Mandal...</td>\n      <td>Edsa Shangri-La, Ortigas, Mandaluyong City</td>\n      <td>Edsa Shangri-La, Ortigas, Mandaluyong City, Ma...</td>\n      <td>121.056831</td>\n      <td>14.581404</td>\n      <td>Seafood, Asian, Filipino, Indian</td>\n      <td>...</td>\n      <td>Botswana Pula(P)</td>\n      <td>1</td>\n      <td>0</td>\n      <td>0</td>\n      <td>0</td>\n      <td>4</td>\n      <td>4.4</td>\n      <td>Green</td>\n      <td>Very Good</td>\n      <td>270</td>\n    </tr>\n    <tr>\n      <th>3</th>\n      <td>6318506</td>\n      <td>Ooma</td>\n      <td>162</td>\n      <td>Mandaluyong City</td>\n      <td>Third Floor, Mega Fashion Hall, SM Megamall, O...</td>\n      <td>SM Megamall, Ortigas, Mandaluyong City</td>\n      <td>SM Megamall, Ortigas, Mandaluyong City, Mandal...</td>\n      <td>121.056475</td>\n      <td>14.585318</td>\n      <td>Japanese, Sushi</td>\n      <td>...</td>\n      <td>Botswana Pula(P)</td>\n      <td>0</td>\n      <td>0</td>\n      <td>0</td>\n      <td>0</td>\n      <td>4</td>\n      <td>4.9</td>\n      <td>Dark Green</td>\n      <td>Excellent</td>\n      <td>365</td>\n    </tr>\n    <tr>\n      <th>4</th>\n      <td>6314302</td>\n      <td>Sambo Kojin</td>\n      <td>162</td>\n      <td>Mandaluyong City</td>\n      <td>Third Floor, Mega Atrium, SM Megamall, Ortigas...</td>\n      <td>SM Megamall, Ortigas, Mandaluyong City</td>\n      <td>SM Megamall, Ortigas, Mandaluyong City, Mandal...</td>\n      <td>121.057508</td>\n      <td>14.584450</td>\n      <td>Japanese, Korean</td>\n      <td>...</td>\n      <td>Botswana Pula(P)</td>\n      <td>1</td>\n      <td>0</td>\n      <td>0</td>\n      <td>0</td>\n      <td>4</td>\n      <td>4.8</td>\n      <td>Dark Green</td>\n      <td>Excellent</td>\n      <td>229</td>\n    </tr>\n  </tbody>\n</table>\n<p>5 rows × 21 columns</p>\n</div>"
          },
          "metadata": {}
        }
      ]
    },
    {
      "cell_type": "code",
      "source": "a = [\"Restaurant Name\", \"city\", \"Address\",\"Locality\",\"Locality Verbose\",\"Cuisines\"]\na = [\"Restaurant Name\", \"City\", \"Address\",\"Locality\",\"Locality Verbose\",\"Cuisines\"]\ndef clean_text(text):\n    if isinstance(text, str):\n        return text\n    return text\ndf[a] = df[a].applymap(clean_text)\ndf.tail()",
      "metadata": {
        "trusted": true
      },
      "execution_count": 21,
      "outputs": [
        {
          "execution_count": 21,
          "output_type": "execute_result",
          "data": {
            "text/plain": "      Restaurant ID           Restaurant Name  Country Code       City  \\\n9546        5915730               Naml۱ Gurme           208  ��stanbul   \n9547        5908749              Ceviz A��ac۱           208  ��stanbul   \n9548        5915807                     Huqqa           208  ��stanbul   \n9549        5916112               A���k Kahve           208  ��stanbul   \n9550        5927402  Walter's Coffee Roastery           208  ��stanbul   \n\n                                                Address     Locality  \\\n9546  Kemanke�� Karamustafa Pa��a Mahallesi, R۱ht۱m ...     Karak�_y   \n9547  Ko��uyolu Mahallesi, Muhittin ��st�_nda�� Cadd...    Ko��uyolu   \n9548  Kuru�_e��me Mahallesi, Muallim Naci Caddesi, N...  Kuru�_e��me   \n9549  Kuru�_e��me Mahallesi, Muallim Naci Caddesi, N...  Kuru�_e��me   \n9550  Cafea��a Mahallesi, Bademalt۱ Sokak, No 21/B, ...         Moda   \n\n            Locality Verbose  Longitude   Latitude  \\\n9546     Karak�_y, ��stanbul  28.977392  41.022793   \n9547    Ko��uyolu, ��stanbul  29.041297  41.009847   \n9548  Kuru�_e��me, ��stanbul  29.034640  41.055817   \n9549  Kuru�_e��me, ��stanbul  29.036019  41.057979   \n9550         Moda, ��stanbul  29.026016  40.984776   \n\n                             Cuisines  ...          Currency  \\\n9546                          Turkish  ...  Turkish Lira(TL)   \n9547  World Cuisine, Patisserie, Cafe  ...  Turkish Lira(TL)   \n9548           Italian, World Cuisine  ...  Turkish Lira(TL)   \n9549                  Restaurant Cafe  ...  Turkish Lira(TL)   \n9550                             Cafe  ...  Turkish Lira(TL)   \n\n     Has Table booking  Has Online delivery  Is delivering now  \\\n9546                 0                    0                  0   \n9547                 0                    0                  0   \n9548                 0                    0                  0   \n9549                 0                    0                  0   \n9550                 0                    0                  0   \n\n      Switch to order menu  Price range  Aggregate rating  Rating color  \\\n9546                     0            3               4.1         Green   \n9547                     0            3               4.2         Green   \n9548                     0            4               3.7        Yellow   \n9549                     0            4               4.0         Green   \n9550                     0            2               4.0         Green   \n\n     Rating text Votes  \n9546   Very Good   788  \n9547   Very Good  1034  \n9548        Good   661  \n9549   Very Good   901  \n9550   Very Good   591  \n\n[5 rows x 21 columns]",
            "text/html": "<div>\n<style scoped>\n    .dataframe tbody tr th:only-of-type {\n        vertical-align: middle;\n    }\n\n    .dataframe tbody tr th {\n        vertical-align: top;\n    }\n\n    .dataframe thead th {\n        text-align: right;\n    }\n</style>\n<table border=\"1\" class=\"dataframe\">\n  <thead>\n    <tr style=\"text-align: right;\">\n      <th></th>\n      <th>Restaurant ID</th>\n      <th>Restaurant Name</th>\n      <th>Country Code</th>\n      <th>City</th>\n      <th>Address</th>\n      <th>Locality</th>\n      <th>Locality Verbose</th>\n      <th>Longitude</th>\n      <th>Latitude</th>\n      <th>Cuisines</th>\n      <th>...</th>\n      <th>Currency</th>\n      <th>Has Table booking</th>\n      <th>Has Online delivery</th>\n      <th>Is delivering now</th>\n      <th>Switch to order menu</th>\n      <th>Price range</th>\n      <th>Aggregate rating</th>\n      <th>Rating color</th>\n      <th>Rating text</th>\n      <th>Votes</th>\n    </tr>\n  </thead>\n  <tbody>\n    <tr>\n      <th>9546</th>\n      <td>5915730</td>\n      <td>Naml۱ Gurme</td>\n      <td>208</td>\n      <td>��stanbul</td>\n      <td>Kemanke�� Karamustafa Pa��a Mahallesi, R۱ht۱m ...</td>\n      <td>Karak�_y</td>\n      <td>Karak�_y, ��stanbul</td>\n      <td>28.977392</td>\n      <td>41.022793</td>\n      <td>Turkish</td>\n      <td>...</td>\n      <td>Turkish Lira(TL)</td>\n      <td>0</td>\n      <td>0</td>\n      <td>0</td>\n      <td>0</td>\n      <td>3</td>\n      <td>4.1</td>\n      <td>Green</td>\n      <td>Very Good</td>\n      <td>788</td>\n    </tr>\n    <tr>\n      <th>9547</th>\n      <td>5908749</td>\n      <td>Ceviz A��ac۱</td>\n      <td>208</td>\n      <td>��stanbul</td>\n      <td>Ko��uyolu Mahallesi, Muhittin ��st�_nda�� Cadd...</td>\n      <td>Ko��uyolu</td>\n      <td>Ko��uyolu, ��stanbul</td>\n      <td>29.041297</td>\n      <td>41.009847</td>\n      <td>World Cuisine, Patisserie, Cafe</td>\n      <td>...</td>\n      <td>Turkish Lira(TL)</td>\n      <td>0</td>\n      <td>0</td>\n      <td>0</td>\n      <td>0</td>\n      <td>3</td>\n      <td>4.2</td>\n      <td>Green</td>\n      <td>Very Good</td>\n      <td>1034</td>\n    </tr>\n    <tr>\n      <th>9548</th>\n      <td>5915807</td>\n      <td>Huqqa</td>\n      <td>208</td>\n      <td>��stanbul</td>\n      <td>Kuru�_e��me Mahallesi, Muallim Naci Caddesi, N...</td>\n      <td>Kuru�_e��me</td>\n      <td>Kuru�_e��me, ��stanbul</td>\n      <td>29.034640</td>\n      <td>41.055817</td>\n      <td>Italian, World Cuisine</td>\n      <td>...</td>\n      <td>Turkish Lira(TL)</td>\n      <td>0</td>\n      <td>0</td>\n      <td>0</td>\n      <td>0</td>\n      <td>4</td>\n      <td>3.7</td>\n      <td>Yellow</td>\n      <td>Good</td>\n      <td>661</td>\n    </tr>\n    <tr>\n      <th>9549</th>\n      <td>5916112</td>\n      <td>A���k Kahve</td>\n      <td>208</td>\n      <td>��stanbul</td>\n      <td>Kuru�_e��me Mahallesi, Muallim Naci Caddesi, N...</td>\n      <td>Kuru�_e��me</td>\n      <td>Kuru�_e��me, ��stanbul</td>\n      <td>29.036019</td>\n      <td>41.057979</td>\n      <td>Restaurant Cafe</td>\n      <td>...</td>\n      <td>Turkish Lira(TL)</td>\n      <td>0</td>\n      <td>0</td>\n      <td>0</td>\n      <td>0</td>\n      <td>4</td>\n      <td>4.0</td>\n      <td>Green</td>\n      <td>Very Good</td>\n      <td>901</td>\n    </tr>\n    <tr>\n      <th>9550</th>\n      <td>5927402</td>\n      <td>Walter's Coffee Roastery</td>\n      <td>208</td>\n      <td>��stanbul</td>\n      <td>Cafea��a Mahallesi, Bademalt۱ Sokak, No 21/B, ...</td>\n      <td>Moda</td>\n      <td>Moda, ��stanbul</td>\n      <td>29.026016</td>\n      <td>40.984776</td>\n      <td>Cafe</td>\n      <td>...</td>\n      <td>Turkish Lira(TL)</td>\n      <td>0</td>\n      <td>0</td>\n      <td>0</td>\n      <td>0</td>\n      <td>2</td>\n      <td>4.0</td>\n      <td>Green</td>\n      <td>Very Good</td>\n      <td>591</td>\n    </tr>\n  </tbody>\n</table>\n<p>5 rows × 21 columns</p>\n</div>"
          },
          "metadata": {}
        }
      ]
    },
    {
      "cell_type": "code",
      "source": "df.columns\ndf.head()",
      "metadata": {
        "trusted": true
      },
      "execution_count": 22,
      "outputs": [
        {
          "execution_count": 22,
          "output_type": "execute_result",
          "data": {
            "text/plain": "   Restaurant ID         Restaurant Name  Country Code              City  \\\n0        6317637        Le Petit Souffle           162       Makati City   \n1        6304287        Izakaya Kikufuji           162       Makati City   \n2        6300002  Heat - Edsa Shangri-La           162  Mandaluyong City   \n3        6318506                    Ooma           162  Mandaluyong City   \n4        6314302             Sambo Kojin           162  Mandaluyong City   \n\n                                             Address  \\\n0  Third Floor, Century City Mall, Kalayaan Avenu...   \n1  Little Tokyo, 2277 Chino Roces Avenue, Legaspi...   \n2  Edsa Shangri-La, 1 Garden Way, Ortigas, Mandal...   \n3  Third Floor, Mega Fashion Hall, SM Megamall, O...   \n4  Third Floor, Mega Atrium, SM Megamall, Ortigas...   \n\n                                     Locality  \\\n0   Century City Mall, Poblacion, Makati City   \n1  Little Tokyo, Legaspi Village, Makati City   \n2  Edsa Shangri-La, Ortigas, Mandaluyong City   \n3      SM Megamall, Ortigas, Mandaluyong City   \n4      SM Megamall, Ortigas, Mandaluyong City   \n\n                                    Locality Verbose   Longitude   Latitude  \\\n0  Century City Mall, Poblacion, Makati City, Mak...  121.027535  14.565443   \n1  Little Tokyo, Legaspi Village, Makati City, Ma...  121.014101  14.553708   \n2  Edsa Shangri-La, Ortigas, Mandaluyong City, Ma...  121.056831  14.581404   \n3  SM Megamall, Ortigas, Mandaluyong City, Mandal...  121.056475  14.585318   \n4  SM Megamall, Ortigas, Mandaluyong City, Mandal...  121.057508  14.584450   \n\n                           Cuisines  ...          Currency Has Table booking  \\\n0        French, Japanese, Desserts  ...  Botswana Pula(P)                 1   \n1                          Japanese  ...  Botswana Pula(P)                 1   \n2  Seafood, Asian, Filipino, Indian  ...  Botswana Pula(P)                 1   \n3                   Japanese, Sushi  ...  Botswana Pula(P)                 0   \n4                  Japanese, Korean  ...  Botswana Pula(P)                 1   \n\n   Has Online delivery  Is delivering now  Switch to order menu  Price range  \\\n0                    0                  0                     0            3   \n1                    0                  0                     0            3   \n2                    0                  0                     0            4   \n3                    0                  0                     0            4   \n4                    0                  0                     0            4   \n\n   Aggregate rating  Rating color Rating text Votes  \n0               4.8    Dark Green   Excellent   314  \n1               4.5    Dark Green   Excellent   591  \n2               4.4         Green   Very Good   270  \n3               4.9    Dark Green   Excellent   365  \n4               4.8    Dark Green   Excellent   229  \n\n[5 rows x 21 columns]",
            "text/html": "<div>\n<style scoped>\n    .dataframe tbody tr th:only-of-type {\n        vertical-align: middle;\n    }\n\n    .dataframe tbody tr th {\n        vertical-align: top;\n    }\n\n    .dataframe thead th {\n        text-align: right;\n    }\n</style>\n<table border=\"1\" class=\"dataframe\">\n  <thead>\n    <tr style=\"text-align: right;\">\n      <th></th>\n      <th>Restaurant ID</th>\n      <th>Restaurant Name</th>\n      <th>Country Code</th>\n      <th>City</th>\n      <th>Address</th>\n      <th>Locality</th>\n      <th>Locality Verbose</th>\n      <th>Longitude</th>\n      <th>Latitude</th>\n      <th>Cuisines</th>\n      <th>...</th>\n      <th>Currency</th>\n      <th>Has Table booking</th>\n      <th>Has Online delivery</th>\n      <th>Is delivering now</th>\n      <th>Switch to order menu</th>\n      <th>Price range</th>\n      <th>Aggregate rating</th>\n      <th>Rating color</th>\n      <th>Rating text</th>\n      <th>Votes</th>\n    </tr>\n  </thead>\n  <tbody>\n    <tr>\n      <th>0</th>\n      <td>6317637</td>\n      <td>Le Petit Souffle</td>\n      <td>162</td>\n      <td>Makati City</td>\n      <td>Third Floor, Century City Mall, Kalayaan Avenu...</td>\n      <td>Century City Mall, Poblacion, Makati City</td>\n      <td>Century City Mall, Poblacion, Makati City, Mak...</td>\n      <td>121.027535</td>\n      <td>14.565443</td>\n      <td>French, Japanese, Desserts</td>\n      <td>...</td>\n      <td>Botswana Pula(P)</td>\n      <td>1</td>\n      <td>0</td>\n      <td>0</td>\n      <td>0</td>\n      <td>3</td>\n      <td>4.8</td>\n      <td>Dark Green</td>\n      <td>Excellent</td>\n      <td>314</td>\n    </tr>\n    <tr>\n      <th>1</th>\n      <td>6304287</td>\n      <td>Izakaya Kikufuji</td>\n      <td>162</td>\n      <td>Makati City</td>\n      <td>Little Tokyo, 2277 Chino Roces Avenue, Legaspi...</td>\n      <td>Little Tokyo, Legaspi Village, Makati City</td>\n      <td>Little Tokyo, Legaspi Village, Makati City, Ma...</td>\n      <td>121.014101</td>\n      <td>14.553708</td>\n      <td>Japanese</td>\n      <td>...</td>\n      <td>Botswana Pula(P)</td>\n      <td>1</td>\n      <td>0</td>\n      <td>0</td>\n      <td>0</td>\n      <td>3</td>\n      <td>4.5</td>\n      <td>Dark Green</td>\n      <td>Excellent</td>\n      <td>591</td>\n    </tr>\n    <tr>\n      <th>2</th>\n      <td>6300002</td>\n      <td>Heat - Edsa Shangri-La</td>\n      <td>162</td>\n      <td>Mandaluyong City</td>\n      <td>Edsa Shangri-La, 1 Garden Way, Ortigas, Mandal...</td>\n      <td>Edsa Shangri-La, Ortigas, Mandaluyong City</td>\n      <td>Edsa Shangri-La, Ortigas, Mandaluyong City, Ma...</td>\n      <td>121.056831</td>\n      <td>14.581404</td>\n      <td>Seafood, Asian, Filipino, Indian</td>\n      <td>...</td>\n      <td>Botswana Pula(P)</td>\n      <td>1</td>\n      <td>0</td>\n      <td>0</td>\n      <td>0</td>\n      <td>4</td>\n      <td>4.4</td>\n      <td>Green</td>\n      <td>Very Good</td>\n      <td>270</td>\n    </tr>\n    <tr>\n      <th>3</th>\n      <td>6318506</td>\n      <td>Ooma</td>\n      <td>162</td>\n      <td>Mandaluyong City</td>\n      <td>Third Floor, Mega Fashion Hall, SM Megamall, O...</td>\n      <td>SM Megamall, Ortigas, Mandaluyong City</td>\n      <td>SM Megamall, Ortigas, Mandaluyong City, Mandal...</td>\n      <td>121.056475</td>\n      <td>14.585318</td>\n      <td>Japanese, Sushi</td>\n      <td>...</td>\n      <td>Botswana Pula(P)</td>\n      <td>0</td>\n      <td>0</td>\n      <td>0</td>\n      <td>0</td>\n      <td>4</td>\n      <td>4.9</td>\n      <td>Dark Green</td>\n      <td>Excellent</td>\n      <td>365</td>\n    </tr>\n    <tr>\n      <th>4</th>\n      <td>6314302</td>\n      <td>Sambo Kojin</td>\n      <td>162</td>\n      <td>Mandaluyong City</td>\n      <td>Third Floor, Mega Atrium, SM Megamall, Ortigas...</td>\n      <td>SM Megamall, Ortigas, Mandaluyong City</td>\n      <td>SM Megamall, Ortigas, Mandaluyong City, Mandal...</td>\n      <td>121.057508</td>\n      <td>14.584450</td>\n      <td>Japanese, Korean</td>\n      <td>...</td>\n      <td>Botswana Pula(P)</td>\n      <td>1</td>\n      <td>0</td>\n      <td>0</td>\n      <td>0</td>\n      <td>4</td>\n      <td>4.8</td>\n      <td>Dark Green</td>\n      <td>Excellent</td>\n      <td>229</td>\n    </tr>\n  </tbody>\n</table>\n<p>5 rows × 21 columns</p>\n</div>"
          },
          "metadata": {}
        }
      ]
    },
    {
      "cell_type": "code",
      "source": "df.drop(\"Rating color\",axis = 1,inplace=True)",
      "metadata": {
        "trusted": true
      },
      "execution_count": 23,
      "outputs": []
    },
    {
      "cell_type": "code",
      "source": "rating_scale = {\n    'Excellent':10,\n    'Very Good':8,\n    'Good'     :7,\n    'Average'  :5,\n    'Not rated':0,\n    'Poor'     :2\n}\nfor i in range(rows):\n    if df.loc[i,\"Rating text\"] in rating_scale.keys():\n        df.loc[i,\"Rating text\"]=rating_scale[df.loc[i,\"Rating text\"]]\ndf[\"Rating text\"].astype(int)\ndf.head()\ndf.to_csv(\"ready.csv\", index=False)\n",
      "metadata": {
        "trusted": true
      },
      "execution_count": 24,
      "outputs": []
    },
    {
      "cell_type": "code",
      "source": "df1  = pd.read_csv(\"ready.csv\")",
      "metadata": {
        "trusted": true
      },
      "execution_count": 25,
      "outputs": []
    },
    {
      "cell_type": "code",
      "source": "rows,columns = df1.shape\ndf1.head()",
      "metadata": {
        "trusted": true
      },
      "execution_count": 26,
      "outputs": [
        {
          "execution_count": 26,
          "output_type": "execute_result",
          "data": {
            "text/plain": "   Restaurant ID         Restaurant Name  Country Code              City  \\\n0        6317637        Le Petit Souffle           162       Makati City   \n1        6304287        Izakaya Kikufuji           162       Makati City   \n2        6300002  Heat - Edsa Shangri-La           162  Mandaluyong City   \n3        6318506                    Ooma           162  Mandaluyong City   \n4        6314302             Sambo Kojin           162  Mandaluyong City   \n\n                                             Address  \\\n0  Third Floor, Century City Mall, Kalayaan Avenu...   \n1  Little Tokyo, 2277 Chino Roces Avenue, Legaspi...   \n2  Edsa Shangri-La, 1 Garden Way, Ortigas, Mandal...   \n3  Third Floor, Mega Fashion Hall, SM Megamall, O...   \n4  Third Floor, Mega Atrium, SM Megamall, Ortigas...   \n\n                                     Locality  \\\n0   Century City Mall, Poblacion, Makati City   \n1  Little Tokyo, Legaspi Village, Makati City   \n2  Edsa Shangri-La, Ortigas, Mandaluyong City   \n3      SM Megamall, Ortigas, Mandaluyong City   \n4      SM Megamall, Ortigas, Mandaluyong City   \n\n                                    Locality Verbose   Longitude   Latitude  \\\n0  Century City Mall, Poblacion, Makati City, Mak...  121.027535  14.565443   \n1  Little Tokyo, Legaspi Village, Makati City, Ma...  121.014101  14.553708   \n2  Edsa Shangri-La, Ortigas, Mandaluyong City, Ma...  121.056831  14.581404   \n3  SM Megamall, Ortigas, Mandaluyong City, Mandal...  121.056475  14.585318   \n4  SM Megamall, Ortigas, Mandaluyong City, Mandal...  121.057508  14.584450   \n\n                           Cuisines  Average Cost for two          Currency  \\\n0        French, Japanese, Desserts                  1100  Botswana Pula(P)   \n1                          Japanese                  1200  Botswana Pula(P)   \n2  Seafood, Asian, Filipino, Indian                  4000  Botswana Pula(P)   \n3                   Japanese, Sushi                  1500  Botswana Pula(P)   \n4                  Japanese, Korean                  1500  Botswana Pula(P)   \n\n   Has Table booking  Has Online delivery  Is delivering now  \\\n0                  1                    0                  0   \n1                  1                    0                  0   \n2                  1                    0                  0   \n3                  0                    0                  0   \n4                  1                    0                  0   \n\n   Switch to order menu  Price range  Aggregate rating  Rating text  Votes  \n0                     0            3               4.8           10    314  \n1                     0            3               4.5           10    591  \n2                     0            4               4.4            8    270  \n3                     0            4               4.9           10    365  \n4                     0            4               4.8           10    229  ",
            "text/html": "<div>\n<style scoped>\n    .dataframe tbody tr th:only-of-type {\n        vertical-align: middle;\n    }\n\n    .dataframe tbody tr th {\n        vertical-align: top;\n    }\n\n    .dataframe thead th {\n        text-align: right;\n    }\n</style>\n<table border=\"1\" class=\"dataframe\">\n  <thead>\n    <tr style=\"text-align: right;\">\n      <th></th>\n      <th>Restaurant ID</th>\n      <th>Restaurant Name</th>\n      <th>Country Code</th>\n      <th>City</th>\n      <th>Address</th>\n      <th>Locality</th>\n      <th>Locality Verbose</th>\n      <th>Longitude</th>\n      <th>Latitude</th>\n      <th>Cuisines</th>\n      <th>Average Cost for two</th>\n      <th>Currency</th>\n      <th>Has Table booking</th>\n      <th>Has Online delivery</th>\n      <th>Is delivering now</th>\n      <th>Switch to order menu</th>\n      <th>Price range</th>\n      <th>Aggregate rating</th>\n      <th>Rating text</th>\n      <th>Votes</th>\n    </tr>\n  </thead>\n  <tbody>\n    <tr>\n      <th>0</th>\n      <td>6317637</td>\n      <td>Le Petit Souffle</td>\n      <td>162</td>\n      <td>Makati City</td>\n      <td>Third Floor, Century City Mall, Kalayaan Avenu...</td>\n      <td>Century City Mall, Poblacion, Makati City</td>\n      <td>Century City Mall, Poblacion, Makati City, Mak...</td>\n      <td>121.027535</td>\n      <td>14.565443</td>\n      <td>French, Japanese, Desserts</td>\n      <td>1100</td>\n      <td>Botswana Pula(P)</td>\n      <td>1</td>\n      <td>0</td>\n      <td>0</td>\n      <td>0</td>\n      <td>3</td>\n      <td>4.8</td>\n      <td>10</td>\n      <td>314</td>\n    </tr>\n    <tr>\n      <th>1</th>\n      <td>6304287</td>\n      <td>Izakaya Kikufuji</td>\n      <td>162</td>\n      <td>Makati City</td>\n      <td>Little Tokyo, 2277 Chino Roces Avenue, Legaspi...</td>\n      <td>Little Tokyo, Legaspi Village, Makati City</td>\n      <td>Little Tokyo, Legaspi Village, Makati City, Ma...</td>\n      <td>121.014101</td>\n      <td>14.553708</td>\n      <td>Japanese</td>\n      <td>1200</td>\n      <td>Botswana Pula(P)</td>\n      <td>1</td>\n      <td>0</td>\n      <td>0</td>\n      <td>0</td>\n      <td>3</td>\n      <td>4.5</td>\n      <td>10</td>\n      <td>591</td>\n    </tr>\n    <tr>\n      <th>2</th>\n      <td>6300002</td>\n      <td>Heat - Edsa Shangri-La</td>\n      <td>162</td>\n      <td>Mandaluyong City</td>\n      <td>Edsa Shangri-La, 1 Garden Way, Ortigas, Mandal...</td>\n      <td>Edsa Shangri-La, Ortigas, Mandaluyong City</td>\n      <td>Edsa Shangri-La, Ortigas, Mandaluyong City, Ma...</td>\n      <td>121.056831</td>\n      <td>14.581404</td>\n      <td>Seafood, Asian, Filipino, Indian</td>\n      <td>4000</td>\n      <td>Botswana Pula(P)</td>\n      <td>1</td>\n      <td>0</td>\n      <td>0</td>\n      <td>0</td>\n      <td>4</td>\n      <td>4.4</td>\n      <td>8</td>\n      <td>270</td>\n    </tr>\n    <tr>\n      <th>3</th>\n      <td>6318506</td>\n      <td>Ooma</td>\n      <td>162</td>\n      <td>Mandaluyong City</td>\n      <td>Third Floor, Mega Fashion Hall, SM Megamall, O...</td>\n      <td>SM Megamall, Ortigas, Mandaluyong City</td>\n      <td>SM Megamall, Ortigas, Mandaluyong City, Mandal...</td>\n      <td>121.056475</td>\n      <td>14.585318</td>\n      <td>Japanese, Sushi</td>\n      <td>1500</td>\n      <td>Botswana Pula(P)</td>\n      <td>0</td>\n      <td>0</td>\n      <td>0</td>\n      <td>0</td>\n      <td>4</td>\n      <td>4.9</td>\n      <td>10</td>\n      <td>365</td>\n    </tr>\n    <tr>\n      <th>4</th>\n      <td>6314302</td>\n      <td>Sambo Kojin</td>\n      <td>162</td>\n      <td>Mandaluyong City</td>\n      <td>Third Floor, Mega Atrium, SM Megamall, Ortigas...</td>\n      <td>SM Megamall, Ortigas, Mandaluyong City</td>\n      <td>SM Megamall, Ortigas, Mandaluyong City, Mandal...</td>\n      <td>121.057508</td>\n      <td>14.584450</td>\n      <td>Japanese, Korean</td>\n      <td>1500</td>\n      <td>Botswana Pula(P)</td>\n      <td>1</td>\n      <td>0</td>\n      <td>0</td>\n      <td>0</td>\n      <td>4</td>\n      <td>4.8</td>\n      <td>10</td>\n      <td>229</td>\n    </tr>\n  </tbody>\n</table>\n</div>"
          },
          "metadata": {}
        }
      ]
    },
    {
      "cell_type": "code",
      "source": "df1['cuisine_count'] = df1['Cuisines'].astype(str).apply(lambda x: len(x.split(',')))\ndf1.head()\ndf1.columns",
      "metadata": {
        "trusted": true
      },
      "execution_count": 27,
      "outputs": [
        {
          "execution_count": 27,
          "output_type": "execute_result",
          "data": {
            "text/plain": "Index(['Restaurant ID', 'Restaurant Name', 'Country Code', 'City', 'Address',\n       'Locality', 'Locality Verbose', 'Longitude', 'Latitude', 'Cuisines',\n       'Average Cost for two', 'Currency', 'Has Table booking',\n       'Has Online delivery', 'Is delivering now', 'Switch to order menu',\n       'Price range', 'Aggregate rating', 'Rating text', 'Votes',\n       'cuisine_count'],\n      dtype='object')"
          },
          "metadata": {}
        }
      ]
    },
    {
      "cell_type": "code",
      "source": "y = df1['Aggregate rating']\nx = df1.drop(columns =  ['Restaurant ID', 'Restaurant Name','City', 'Address','Locality', 'Locality Verbose','Cuisines','Aggregate rating','Currency'])\nfrom  sklearn.model_selection import train_test_split\nx_train,x_test,y_train,y_test = train_test_split(x,y,random_state = 1)\ny_train.shape",
      "metadata": {
        "trusted": true
      },
      "execution_count": 28,
      "outputs": [
        {
          "execution_count": 28,
          "output_type": "execute_result",
          "data": {
            "text/plain": "(7163,)"
          },
          "metadata": {}
        }
      ]
    },
    {
      "cell_type": "code",
      "source": "from sklearn.ensemble import RandomForestRegressor\nmodel = RandomForestRegressor(n_estimators = 100, random_state = 1)\nmodel.fit(x_train,y_train)\ny_pred = model.predict(x_test)",
      "metadata": {
        "trusted": true
      },
      "execution_count": 29,
      "outputs": []
    },
    {
      "cell_type": "code",
      "source": "feature_importance = model.feature_importances_\nimportanceDf = pd.DataFrame({\"Features\": x_train.columns, \"Importance\": feature_importance})\nimportanceDf = importanceDf.sort_values(by=\"Importance\", ascending=False)\nfrom sklearn.ensemble import RandomForestRegressor\nmodel = RandomForestRegressor(n_estimators = 100, random_state = 1)\nmodel.fit(x_train,y_train)\ny_pred = model.predict(x_test)\ny_pred",
      "metadata": {
        "trusted": true
      },
      "execution_count": 30,
      "outputs": [
        {
          "execution_count": 30,
          "output_type": "execute_result",
          "data": {
            "text/plain": "array([3.02 , 4.709, 3.611, ..., 2.97 , 0.   , 0.   ])"
          },
          "metadata": {}
        }
      ]
    },
    {
      "cell_type": "code",
      "source": "feature_importance = model.feature_importances_\nimportanceDf = pd.DataFrame({\"Features\" : x_train.columns, \"Importance\": feature_importance})\nimportanceDf.sort_values(by = \"Importance\", ascending = False)",
      "metadata": {
        "trusted": true
      },
      "execution_count": 31,
      "outputs": [
        {
          "execution_count": 31,
          "output_type": "execute_result",
          "data": {
            "text/plain": "                Features  Importance\n9            Rating text    0.573196\n10                 Votes    0.416806\n2               Latitude    0.003395\n1              Longitude    0.003242\n3   Average Cost for two    0.001698\n11         cuisine_count    0.000861\n5    Has Online delivery    0.000356\n8            Price range    0.000260\n4      Has Table booking    0.000116\n0           Country Code    0.000042\n6      Is delivering now    0.000030\n7   Switch to order menu    0.000000",
            "text/html": "<div>\n<style scoped>\n    .dataframe tbody tr th:only-of-type {\n        vertical-align: middle;\n    }\n\n    .dataframe tbody tr th {\n        vertical-align: top;\n    }\n\n    .dataframe thead th {\n        text-align: right;\n    }\n</style>\n<table border=\"1\" class=\"dataframe\">\n  <thead>\n    <tr style=\"text-align: right;\">\n      <th></th>\n      <th>Features</th>\n      <th>Importance</th>\n    </tr>\n  </thead>\n  <tbody>\n    <tr>\n      <th>9</th>\n      <td>Rating text</td>\n      <td>0.573196</td>\n    </tr>\n    <tr>\n      <th>10</th>\n      <td>Votes</td>\n      <td>0.416806</td>\n    </tr>\n    <tr>\n      <th>2</th>\n      <td>Latitude</td>\n      <td>0.003395</td>\n    </tr>\n    <tr>\n      <th>1</th>\n      <td>Longitude</td>\n      <td>0.003242</td>\n    </tr>\n    <tr>\n      <th>3</th>\n      <td>Average Cost for two</td>\n      <td>0.001698</td>\n    </tr>\n    <tr>\n      <th>11</th>\n      <td>cuisine_count</td>\n      <td>0.000861</td>\n    </tr>\n    <tr>\n      <th>5</th>\n      <td>Has Online delivery</td>\n      <td>0.000356</td>\n    </tr>\n    <tr>\n      <th>8</th>\n      <td>Price range</td>\n      <td>0.000260</td>\n    </tr>\n    <tr>\n      <th>4</th>\n      <td>Has Table booking</td>\n      <td>0.000116</td>\n    </tr>\n    <tr>\n      <th>0</th>\n      <td>Country Code</td>\n      <td>0.000042</td>\n    </tr>\n    <tr>\n      <th>6</th>\n      <td>Is delivering now</td>\n      <td>0.000030</td>\n    </tr>\n    <tr>\n      <th>7</th>\n      <td>Switch to order menu</td>\n      <td>0.000000</td>\n    </tr>\n  </tbody>\n</table>\n</div>"
          },
          "metadata": {}
        }
      ]
    },
    {
      "cell_type": "code",
      "source": "from sklearn.metrics import mean_absolute_error, mean_squared_error, mean_absolute_percentage_error\n\nsquared_error = mean_squared_error(y_test, y_pred)\nerror_percent = mean_absolute_percentage_error(y_test, y_pred)\naccuracy_percentage = (1 - error_percent) * 100\n\nprint(\"Mean Squared Error = {:.2f}\".format(squared_error))\nprint(\"Accuracy Percentage = {:.2f}%\".format(accuracy_percentage))",
      "metadata": {
        "trusted": true
      },
      "execution_count": 32,
      "outputs": [
        {
          "name": "stdout",
          "text": "Mean Squared Error = 0.03\nAccuracy Percentage = 96.19%\n",
          "output_type": "stream"
        }
      ]
    },
    {
      "cell_type": "code",
      "source": "",
      "metadata": {},
      "execution_count": null,
      "outputs": []
    }
  ]
}